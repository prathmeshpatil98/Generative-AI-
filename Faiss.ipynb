{
 "cells": [
  {
   "cell_type": "markdown",
   "metadata": {},
   "source": [
    "#### Faiss\n",
    "Facebook AI Similarity Search (Faiss) is a library for efficient similarity search and clustering of dense vectors. It contains algorithms that search in sets of vectors of any size, up to ones that possibly do not fit in RAM. It also contains supporting code for evaluation and parameter tuning."
   ]
  },
  {
   "cell_type": "code",
   "execution_count": 1,
   "metadata": {},
   "outputs": [],
   "source": [
    "from langchain_community.document_loaders import PyPDFLoader\n",
    "from langchain_community.vectorstores import FAISS\n",
    "from langchain_community.embeddings import OllamaEmbeddings\n",
    "from langchain_text_splitters import CharacterTextSplitter\n",
    "\n",
    "loader=PyPDFLoader(\"D:\\\\Resume_Projects\\\\Practice_Krish_Naik\\\\New folder\\\\basics_of_langchain\\\\3.2-DataIngestion\\\\Q_A_ChatBot_for_Trade.pdf\")\n",
    "documents=loader.load()\n",
    "text_splitter=CharacterTextSplitter(chunk_size=1000,chunk_overlap=30)\n",
    "docs=text_splitter.split_documents(documents)\n"
   ]
  },
  {
   "cell_type": "code",
   "execution_count": 3,
   "metadata": {},
   "outputs": [
    {
     "data": {
      "text/plain": [
       "[Document(metadata={'source': 'D:\\\\Resume_Projects\\\\Practice_Krish_Naik\\\\New folder\\\\basics_of_langchain\\\\3.2-DataIngestion\\\\Q_A_ChatBot_for_Trade.pdf', 'page': 0}, page_content='Questions and Answers for ChatBot  \\n \\n \\n**1. What types of investment accounts do you offer?**  \\n   - We offer individual brokerage accounts, joint accounts, retirement accounts \\n(IRAs), and custodial accounts.  \\n \\n**2. What are the fees associated with opening and maintaining an account?**  \\n   - We do not charge any fees for opening an account. However, m aintenance \\nfees may apply depending on the account type.  \\n \\n**3. What are the minimum deposit requirements to start trading?**  \\n   - The minimum deposit to start trading is $500.  \\n \\n**4. Do you provide any practice accounts for simulated trading?**  \\n   - Yes, we  offer demo accounts where you can practice trading with virtual \\nfunds.  \\n \\n**5. What customer support options do you have (phone, email, live chat)?**  \\n   - Our customer support is available via phone, email, and live chat.  \\n \\n**6. What are your business hours for customer service?**  \\n   - Our customer service is available from 9 AM to 6 PM EST, Monday through \\nFriday.  \\n \\n**7. Which trading platforms do you provide (web -based, mobile app)?**  \\n   - We provide a web -based platform and a mobile app for iOS and Android.'),\n",
       " Document(metadata={'source': 'D:\\\\Resume_Projects\\\\Practice_Krish_Naik\\\\New folder\\\\basics_of_langchain\\\\3.2-DataIngestion\\\\Q_A_ChatBot_for_Trade.pdf', 'page': 1}, page_content='**8. What features are included on your trading platforms (charts, analysis \\ntools)?**  \\n   - Our platforms include advanced charting tools, technical analysis indicators, \\nand real -time market data.  \\n \\n**9. Do you offer any educational resources for new invest ors?**  \\n   - Yes, we offer a range of educational resources including articles, videos, and \\nwebinars.  \\n \\n**10. What types of orders can I place on your platform (market, limit, \\nstop)?**  \\n    - You can place market, limit, stop, and trailing stop orders on our platform.  \\n \\n**11. Can I set up automated trading strategies?**  \\n    - Yes, our platform supports automated trading through API integration.  \\n \\n**12. What data feeds do you offer (real -time, historical)?**  \\n    - We offer both real -time and historical data feeds . \\n \\n**13. What deposit methods do you support (bank transfer, e -wallets)?**  \\n    - We support bank transfers, credit/debit cards, and e -wallets.  \\n \\n**14. How long do deposits typically take to process?**  \\n    - Deposits typically take 1 -3 business days to proce ss. \\n \\n**15. What are the minimum and maximum withdrawal amounts?**'),\n",
       " Document(metadata={'source': 'D:\\\\Resume_Projects\\\\Practice_Krish_Naik\\\\New folder\\\\basics_of_langchain\\\\3.2-DataIngestion\\\\Q_A_ChatBot_for_Trade.pdf', 'page': 2}, page_content='- The minimum withdrawal amount is $100. There is no maximum limit on \\nwithdrawals.  \\n \\n**16. How long do withdrawals typically take to process?**  \\n    - Withdrawals typically take 2 -5 business days to process.  \\n \\n**17. Are there any fees associated with deposits or withdrawals?**  \\n    - We do not charge any fees for deposits. Withdrawal fees may vary \\ndepending on the method used.  \\n \\n**18. What asset class es can I trade on your platform (stocks, options, forex, \\nfutures)?**  \\n    - You can trade stocks, options, forex, futures, and ETFs on our platform.  \\n \\n**19. Do you offer fractional shares or mini -contracts?**  \\n    - Yes, we offer fractional shares for stocks and mini -contracts for futures.  \\n \\n**20. What are the margin requirements for different products?**  \\n    - Margin requirements vary by product and are detailed on our website.  \\n \\n**21. What are the bid -ask spreads for different assets?**  \\n    - Bid-ask spreads v ary depending on the asset and market conditions. Real -\\ntime spreads can be viewed on our platform.  \\n \\n**22. Do you offer any commission -free trading options?**  \\n    - Yes, we offer commission -free trading for select stocks and ETFs.'),\n",
       " Document(metadata={'source': 'D:\\\\Resume_Projects\\\\Practice_Krish_Naik\\\\New folder\\\\basics_of_langchain\\\\3.2-DataIngestion\\\\Q_A_ChatBot_for_Trade.pdf', 'page': 3}, page_content=\"**23. What are the settle ment times for different products?**  \\n    - Settlement times vary: stocks typically settle in T+2 days, while futures may \\nsettle the next business day.  \\n \\n**24. How can I update my account information?**  \\n    - You can update your account information through t he account settings \\nsection on our platform.  \\n \\n**25. How do I change my password?**  \\n    - You can change your password in the security settings of your account \\nprofile.  \\n \\n**26. What security measures do you take to protect my account?**  \\n    - We use advanced encryption, secure login protocols, and continuous \\nmonitoring to protect your account.  \\n \\n**27. Do you offer two -factor authentication?**  \\n    - Yes, we offer two -factor authentication for enhanced security.  \\n \\n**28. What happens if I forg et my login credentials?**  \\n    - If you forget your login credentials, you can reset them using the 'Forgot \\nPassword' link on the login page.  \\n \\n**29. Do you offer any market research reports or analysis tools?**  \\n    - Yes, we provide daily market research r eports and a suite of analysis tools.  \\n \\n**30. Can I access fundamental and technical analysis data?**\"),\n",
       " Document(metadata={'source': 'D:\\\\Resume_Projects\\\\Practice_Krish_Naik\\\\New folder\\\\basics_of_langchain\\\\3.2-DataIngestion\\\\Q_A_ChatBot_for_Trade.pdf', 'page': 4}, page_content='- Yes, our platform offers comprehensive fundamental and technical analysis \\ndata.  \\n \\n**31. Do you have any educational webinars or seminars?**  \\n    - We r egularly host educational webinars and seminars on various \\ninvestment topics.  \\n \\n**32. What are the latest market news and trends?**  \\n    - You can access the latest market news and trends through our platform ’s \\nnews section.  \\n \\n**33. What are your trading comm issions and fees?**  \\n    - Our trading commissions vary by product and are detailed on our fee \\nschedule.  \\n \\n**34. Are there any inactivity fees for my account?**  \\n    - We do not charge inactivity fees for your account.  \\n \\n**35. Do you charge any account mainten ance fees?**  \\n    - Account maintenance fees may apply depending on the account type and \\nactivity level.  \\n \\n**36. Are there any margin interest fees?**  \\n    - Yes, margin interest fees are charged based on the amount borrowed and \\ncurrent interest rates.  \\n \\n**37. How can I view my account statements and transaction history?**'),\n",
       " Document(metadata={'source': 'D:\\\\Resume_Projects\\\\Practice_Krish_Naik\\\\New folder\\\\basics_of_langchain\\\\3.2-DataIngestion\\\\Q_A_ChatBot_for_Trade.pdf', 'page': 5}, page_content=\"- You can view your account statements and transaction history in the \\naccount section of our platform.  \\n \\n**38. How do I calculate my capital gains and losses?**  \\n    - Our platform pro vides tools to help you calculate your capital gains and \\nlosses.  \\n \\n**39. Do you offer any tax reporting tools?**  \\n    - Yes, we offer tax reporting tools to help you prepare your tax filings.  \\n \\n**40. What tax forms do I need to file for my investments?**  \\n    - The required tax forms depend on your investment activity and country of \\nresidence. Common forms include 1099 -B for U.S. residents.  \\n \\n**41. What are some of the different investment options available?**  \\n    - We offer a variety of investment options inclu ding stocks, bonds, ETFs, \\nmutual funds, and more.  \\n \\n**42. What are the risks involved in investing?**  \\n    - Investing involves risks such as market risk, liquidity risk, and credit risk. It's \\nimportant to research and understand these risks before investing . \\n \\n**43. How can I develop a personalized investment plan?**  \\n    - We recommend consulting with a financial advisor to develop a \\npersonalized investment plan based on your financial goals and risk tolerance.  \\n \\n**44. I understand you cannot provide financial  advice, are there any resources \\nyou recommend to learn more about investing?**\"),\n",
       " Document(metadata={'source': 'D:\\\\Resume_Projects\\\\Practice_Krish_Naik\\\\New folder\\\\basics_of_langchain\\\\3.2-DataIngestion\\\\Q_A_ChatBot_for_Trade.pdf', 'page': 6}, page_content='- Yes, we recommend exploring our educational resources section, which \\nincludes articles, videos, and webinars on investing.  \\n \\n**45. What are some common investment mistakes to avoid?**  \\n    - Common mistakes include lack of diversification, emotional trading, and not \\nhaving a clear investment plan. Our educational resources can help you avoid \\nthese pitfalls.  \\n \\n--- \\n \\nYou can format t his content into a PDF using a word processor or PDF editing \\nsoftware. Each question and its corresponding response are clearly separated \\nto make it easy to read and understand for users.')]"
      ]
     },
     "execution_count": 3,
     "metadata": {},
     "output_type": "execute_result"
    }
   ],
   "source": [
    "docs"
   ]
  },
  {
   "cell_type": "code",
   "execution_count": 4,
   "metadata": {},
   "outputs": [
    {
     "data": {
      "text/plain": [
       "<langchain_community.vectorstores.faiss.FAISS at 0x230f9e2a9e0>"
      ]
     },
     "execution_count": 4,
     "metadata": {},
     "output_type": "execute_result"
    }
   ],
   "source": [
    "embeddings=OllamaEmbeddings(model=\"llama3\")\n",
    "db=FAISS.from_documents(docs,embeddings)\n",
    "db"
   ]
  },
  {
   "cell_type": "code",
   "execution_count": 10,
   "metadata": {},
   "outputs": [
    {
     "name": "stdout",
     "output_type": "stream",
     "text": [
      "Collecting faiss-cpu\n",
      "  Using cached faiss_cpu-1.8.0.post1-cp310-cp310-win_amd64.whl.metadata (3.8 kB)\n",
      "Requirement already satisfied: numpy<2.0,>=1.0 in d:\\resume_projects\\practice_krish_naik\\new folder\\practice310\\lib\\site-packages (from faiss-cpu) (1.26.4)\n",
      "Requirement already satisfied: packaging in d:\\resume_projects\\practice_krish_naik\\new folder\\practice310\\lib\\site-packages (from faiss-cpu) (24.1)\n",
      "Using cached faiss_cpu-1.8.0.post1-cp310-cp310-win_amd64.whl (14.6 MB)\n",
      "Installing collected packages: faiss-cpu\n",
      "Successfully installed faiss-cpu-1.8.0.post1\n"
     ]
    }
   ],
   "source": [
    "!pip install faiss-cpu"
   ]
  },
  {
   "cell_type": "code",
   "execution_count": 5,
   "metadata": {},
   "outputs": [
    {
     "data": {
      "text/plain": [
       "'Questions and Answers for ChatBot  \\n \\n \\n**1. What types of investment accounts do you offer?**  \\n   - We offer individual brokerage accounts, joint accounts, retirement accounts \\n(IRAs), and custodial accounts.  \\n \\n**2. What are the fees associated with opening and maintaining an account?**  \\n   - We do not charge any fees for opening an account. However, m aintenance \\nfees may apply depending on the account type.  \\n \\n**3. What are the minimum deposit requirements to start trading?**  \\n   - The minimum deposit to start trading is $500.  \\n \\n**4. Do you provide any practice accounts for simulated trading?**  \\n   - Yes, we  offer demo accounts where you can practice trading with virtual \\nfunds.  \\n \\n**5. What customer support options do you have (phone, email, live chat)?**  \\n   - Our customer support is available via phone, email, and live chat.  \\n \\n**6. What are your business hours for customer service?**  \\n   - Our customer service is available from 9 AM to 6 PM EST, Monday through \\nFriday.  \\n \\n**7. Which trading platforms do you provide (web -based, mobile app)?**  \\n   - We provide a web -based platform and a mobile app for iOS and Android.'"
      ]
     },
     "execution_count": 5,
     "metadata": {},
     "output_type": "execute_result"
    }
   ],
   "source": [
    "### querying \n",
    "query=\"What types of investment accounts do you offer\"\n",
    "docs=db.similarity_search(query)\n",
    "docs[0].page_content\n"
   ]
  },
  {
   "cell_type": "markdown",
   "metadata": {},
   "source": [
    "#### As a Retriever\n",
    "We can also convert the vectorstore into a Retriever class. This allows us to easily use it in other LangChain methods, which largely work with retrievers"
   ]
  },
  {
   "cell_type": "code",
   "execution_count": 6,
   "metadata": {},
   "outputs": [
    {
     "data": {
      "text/plain": [
       "'Questions and Answers for ChatBot  \\n \\n \\n**1. What types of investment accounts do you offer?**  \\n   - We offer individual brokerage accounts, joint accounts, retirement accounts \\n(IRAs), and custodial accounts.  \\n \\n**2. What are the fees associated with opening and maintaining an account?**  \\n   - We do not charge any fees for opening an account. However, m aintenance \\nfees may apply depending on the account type.  \\n \\n**3. What are the minimum deposit requirements to start trading?**  \\n   - The minimum deposit to start trading is $500.  \\n \\n**4. Do you provide any practice accounts for simulated trading?**  \\n   - Yes, we  offer demo accounts where you can practice trading with virtual \\nfunds.  \\n \\n**5. What customer support options do you have (phone, email, live chat)?**  \\n   - Our customer support is available via phone, email, and live chat.  \\n \\n**6. What are your business hours for customer service?**  \\n   - Our customer service is available from 9 AM to 6 PM EST, Monday through \\nFriday.  \\n \\n**7. Which trading platforms do you provide (web -based, mobile app)?**  \\n   - We provide a web -based platform and a mobile app for iOS and Android.'"
      ]
     },
     "execution_count": 6,
     "metadata": {},
     "output_type": "execute_result"
    }
   ],
   "source": [
    "retriever=db.as_retriever()\n",
    "docs=retriever.invoke(query)\n",
    "docs[0].page_content"
   ]
  },
  {
   "cell_type": "markdown",
   "metadata": {},
   "source": [
    "#### Similarity Search with score\n",
    "There are some FAISS specific methods. One of them is similarity_search_with_score, which allows you to return not only the documents but also the distance score of the query to them. The returned distance score is L2 distance. Therefore, a lower score is better."
   ]
  },
  {
   "cell_type": "code",
   "execution_count": 7,
   "metadata": {},
   "outputs": [
    {
     "data": {
      "text/plain": [
       "[(Document(metadata={'source': 'D:\\\\Resume_Projects\\\\Practice_Krish_Naik\\\\New folder\\\\basics_of_langchain\\\\3.2-DataIngestion\\\\Q_A_ChatBot_for_Trade.pdf', 'page': 0}, page_content='Questions and Answers for ChatBot  \\n \\n \\n**1. What types of investment accounts do you offer?**  \\n   - We offer individual brokerage accounts, joint accounts, retirement accounts \\n(IRAs), and custodial accounts.  \\n \\n**2. What are the fees associated with opening and maintaining an account?**  \\n   - We do not charge any fees for opening an account. However, m aintenance \\nfees may apply depending on the account type.  \\n \\n**3. What are the minimum deposit requirements to start trading?**  \\n   - The minimum deposit to start trading is $500.  \\n \\n**4. Do you provide any practice accounts for simulated trading?**  \\n   - Yes, we  offer demo accounts where you can practice trading with virtual \\nfunds.  \\n \\n**5. What customer support options do you have (phone, email, live chat)?**  \\n   - Our customer support is available via phone, email, and live chat.  \\n \\n**6. What are your business hours for customer service?**  \\n   - Our customer service is available from 9 AM to 6 PM EST, Monday through \\nFriday.  \\n \\n**7. Which trading platforms do you provide (web -based, mobile app)?**  \\n   - We provide a web -based platform and a mobile app for iOS and Android.'),\n",
       "  26683.707),\n",
       " (Document(metadata={'source': 'D:\\\\Resume_Projects\\\\Practice_Krish_Naik\\\\New folder\\\\basics_of_langchain\\\\3.2-DataIngestion\\\\Q_A_ChatBot_for_Trade.pdf', 'page': 5}, page_content=\"- You can view your account statements and transaction history in the \\naccount section of our platform.  \\n \\n**38. How do I calculate my capital gains and losses?**  \\n    - Our platform pro vides tools to help you calculate your capital gains and \\nlosses.  \\n \\n**39. Do you offer any tax reporting tools?**  \\n    - Yes, we offer tax reporting tools to help you prepare your tax filings.  \\n \\n**40. What tax forms do I need to file for my investments?**  \\n    - The required tax forms depend on your investment activity and country of \\nresidence. Common forms include 1099 -B for U.S. residents.  \\n \\n**41. What are some of the different investment options available?**  \\n    - We offer a variety of investment options inclu ding stocks, bonds, ETFs, \\nmutual funds, and more.  \\n \\n**42. What are the risks involved in investing?**  \\n    - Investing involves risks such as market risk, liquidity risk, and credit risk. It's \\nimportant to research and understand these risks before investing . \\n \\n**43. How can I develop a personalized investment plan?**  \\n    - We recommend consulting with a financial advisor to develop a \\npersonalized investment plan based on your financial goals and risk tolerance.  \\n \\n**44. I understand you cannot provide financial  advice, are there any resources \\nyou recommend to learn more about investing?**\"),\n",
       "  27550.0),\n",
       " (Document(metadata={'source': 'D:\\\\Resume_Projects\\\\Practice_Krish_Naik\\\\New folder\\\\basics_of_langchain\\\\3.2-DataIngestion\\\\Q_A_ChatBot_for_Trade.pdf', 'page': 4}, page_content='- Yes, our platform offers comprehensive fundamental and technical analysis \\ndata.  \\n \\n**31. Do you have any educational webinars or seminars?**  \\n    - We r egularly host educational webinars and seminars on various \\ninvestment topics.  \\n \\n**32. What are the latest market news and trends?**  \\n    - You can access the latest market news and trends through our platform ’s \\nnews section.  \\n \\n**33. What are your trading comm issions and fees?**  \\n    - Our trading commissions vary by product and are detailed on our fee \\nschedule.  \\n \\n**34. Are there any inactivity fees for my account?**  \\n    - We do not charge inactivity fees for your account.  \\n \\n**35. Do you charge any account mainten ance fees?**  \\n    - Account maintenance fees may apply depending on the account type and \\nactivity level.  \\n \\n**36. Are there any margin interest fees?**  \\n    - Yes, margin interest fees are charged based on the amount borrowed and \\ncurrent interest rates.  \\n \\n**37. How can I view my account statements and transaction history?**'),\n",
       "  28955.02),\n",
       " (Document(metadata={'source': 'D:\\\\Resume_Projects\\\\Practice_Krish_Naik\\\\New folder\\\\basics_of_langchain\\\\3.2-DataIngestion\\\\Q_A_ChatBot_for_Trade.pdf', 'page': 1}, page_content='**8. What features are included on your trading platforms (charts, analysis \\ntools)?**  \\n   - Our platforms include advanced charting tools, technical analysis indicators, \\nand real -time market data.  \\n \\n**9. Do you offer any educational resources for new invest ors?**  \\n   - Yes, we offer a range of educational resources including articles, videos, and \\nwebinars.  \\n \\n**10. What types of orders can I place on your platform (market, limit, \\nstop)?**  \\n    - You can place market, limit, stop, and trailing stop orders on our platform.  \\n \\n**11. Can I set up automated trading strategies?**  \\n    - Yes, our platform supports automated trading through API integration.  \\n \\n**12. What data feeds do you offer (real -time, historical)?**  \\n    - We offer both real -time and historical data feeds . \\n \\n**13. What deposit methods do you support (bank transfer, e -wallets)?**  \\n    - We support bank transfers, credit/debit cards, and e -wallets.  \\n \\n**14. How long do deposits typically take to process?**  \\n    - Deposits typically take 1 -3 business days to proce ss. \\n \\n**15. What are the minimum and maximum withdrawal amounts?**'),\n",
       "  29206.355)]"
      ]
     },
     "execution_count": 7,
     "metadata": {},
     "output_type": "execute_result"
    }
   ],
   "source": [
    "docs_and_score=db.similarity_search_with_score(query)\n",
    "docs_and_score"
   ]
  },
  {
   "cell_type": "code",
   "execution_count": 1,
   "metadata": {},
   "outputs": [
    {
     "ename": "NameError",
     "evalue": "name 'embeddings' is not defined",
     "output_type": "error",
     "traceback": [
      "\u001b[1;31m---------------------------------------------------------------------------\u001b[0m",
      "\u001b[1;31mNameError\u001b[0m                                 Traceback (most recent call last)",
      "Cell \u001b[1;32mIn[1], line 1\u001b[0m\n\u001b[1;32m----> 1\u001b[0m embedding_vector\u001b[38;5;241m=\u001b[39m\u001b[43membeddings\u001b[49m\u001b[38;5;241m.\u001b[39membed_query(query)\n\u001b[0;32m      2\u001b[0m \u001b[38;5;66;03m# embedding_vector\u001b[39;00m\n",
      "\u001b[1;31mNameError\u001b[0m: name 'embeddings' is not defined"
     ]
    }
   ],
   "source": [
    "embedding_vector=embeddings.embed_query(query)\n",
    "# embedding_vector"
   ]
  },
  {
   "cell_type": "code",
   "execution_count": 13,
   "metadata": {},
   "outputs": [
    {
     "data": {
      "text/plain": [
       "[Document(page_content='It is a distressing and oppressive duty, gentlemen of the Congress, which I have performed in thus addressing you. There are, it may be, many months of fiery trial and sacrifice ahead of us. It is a fearful thing to lead this great peaceful people into war, into the most terrible and disastrous of all wars, civilization itself seeming to be in the balance. But the right is more precious than peace, and we shall fight for the things which we have always carried nearest our hearts—for democracy, for the right of those who submit to authority to have a voice in their own governments, for the rights and liberties of small nations, for a universal dominion of right by such a concert of free peoples as shall bring peace and safety to all nations and make the world itself at last free.', metadata={'source': 'speech.txt'}),\n",
       " Document(page_content='To such a task we can dedicate our lives and our fortunes, everything that we are and everything that we have, with the pride of those who know that the day has come when America is privileged to spend her blood and her might for the principles that gave her birth and happiness and the peace which she has treasured. God helping her, she can do no other.', metadata={'source': 'speech.txt'}),\n",
       " Document(page_content='…\\n\\nIt will be all the easier for us to conduct ourselves as belligerents in a high spirit of right and fairness because we act without animus, not in enmity toward a people or with the desire to bring any injury or disadvantage upon them, but only in armed opposition to an irresponsible government which has thrown aside all considerations of humanity and of right and is running amuck. We are, let me say again, the sincere friends of the German people, and shall desire nothing so much as the early reestablishment of intimate relations of mutual advantage between us—however hard it may be for them, for the time being, to believe that this is spoken from our hearts.', metadata={'source': 'speech.txt'}),\n",
       " Document(page_content='We have borne with their present government through all these bitter months because of that friendship—exercising a patience and forbearance which would otherwise have been impossible. We shall, happily, still have an opportunity to prove that friendship in our daily attitude and actions toward the millions of men and women of German birth and native sympathy who live among us and share our life, and we shall be proud to prove it toward all who are in fact loyal to their neighbors and to the government in the hour of test. They are, most of them, as true and loyal Americans as if they had never known any other fealty or allegiance. They will be prompt to stand with us in rebuking and restraining the few who may be of a different mind and purpose. If there should be disloyalty, it will be dealt with with a firm hand of stern repression; but, if it lifts its head at all, it will lift it only here and there and without countenance except from a lawless and malignant few.', metadata={'source': 'speech.txt'})]"
      ]
     },
     "execution_count": 13,
     "metadata": {},
     "output_type": "execute_result"
    }
   ],
   "source": [
    "docs_score=db.similarity_search_by_vector(embedding_vector)\n",
    "docs_score"
   ]
  },
  {
   "cell_type": "code",
   "execution_count": 8,
   "metadata": {},
   "outputs": [],
   "source": [
    "### Saving And Loading\n",
    "db.save_local(\"faiss_index_QA\")"
   ]
  },
  {
   "cell_type": "code",
   "execution_count": 9,
   "metadata": {},
   "outputs": [],
   "source": [
    "new_db=FAISS.load_local(\"faiss_index_QA\",embeddings,allow_dangerous_deserialization=True)\n",
    "docs=new_db.similarity_search(query)"
   ]
  },
  {
   "cell_type": "code",
   "execution_count": 11,
   "metadata": {},
   "outputs": [
    {
     "data": {
      "text/plain": [
       "'Questions and Answers for ChatBot  \\n \\n \\n**1. What types of investment accounts do you offer?**  \\n   - We offer individual brokerage accounts, joint accounts, retirement accounts \\n(IRAs), and custodial accounts.  \\n \\n**2. What are the fees associated with opening and maintaining an account?**  \\n   - We do not charge any fees for opening an account. However, m aintenance \\nfees may apply depending on the account type.  \\n \\n**3. What are the minimum deposit requirements to start trading?**  \\n   - The minimum deposit to start trading is $500.  \\n \\n**4. Do you provide any practice accounts for simulated trading?**  \\n   - Yes, we  offer demo accounts where you can practice trading with virtual \\nfunds.  \\n \\n**5. What customer support options do you have (phone, email, live chat)?**  \\n   - Our customer support is available via phone, email, and live chat.  \\n \\n**6. What are your business hours for customer service?**  \\n   - Our customer service is available from 9 AM to 6 PM EST, Monday through \\nFriday.  \\n \\n**7. Which trading platforms do you provide (web -based, mobile app)?**  \\n   - We provide a web -based platform and a mobile app for iOS and Android.'"
      ]
     },
     "execution_count": 11,
     "metadata": {},
     "output_type": "execute_result"
    }
   ],
   "source": [
    "docs[0].page_content"
   ]
  },
  {
   "cell_type": "code",
   "execution_count": null,
   "metadata": {},
   "outputs": [],
   "source": []
  },
  {
   "cell_type": "code",
   "execution_count": null,
   "metadata": {},
   "outputs": [],
   "source": []
  },
  {
   "cell_type": "code",
   "execution_count": null,
   "metadata": {},
   "outputs": [],
   "source": []
  },
  {
   "cell_type": "code",
   "execution_count": null,
   "metadata": {},
   "outputs": [],
   "source": []
  },
  {
   "cell_type": "code",
   "execution_count": null,
   "metadata": {},
   "outputs": [],
   "source": []
  }
 ],
 "metadata": {
  "kernelspec": {
   "display_name": "Python 3",
   "language": "python",
   "name": "python3"
  },
  "language_info": {
   "codemirror_mode": {
    "name": "ipython",
    "version": 3
   },
   "file_extension": ".py",
   "mimetype": "text/x-python",
   "name": "python",
   "nbconvert_exporter": "python",
   "pygments_lexer": "ipython3",
   "version": "3.10.14"
  }
 },
 "nbformat": 4,
 "nbformat_minor": 2
}
